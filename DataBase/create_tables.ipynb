{
 "cells": [
  {
   "cell_type": "code",
   "execution_count": 1,
   "id": "df10604b-239f-4af4-a8e1-982fa92e293c",
   "metadata": {},
   "outputs": [
    {
     "name": "stdout",
     "output_type": "stream",
     "text": [
      "Connecting to Database\n",
      "knury\n",
      "lochy\n",
      "MAG\n",
      "mlode\n",
      "rozplodowa\n",
      "Create tables done!!\n"
     ]
    }
   ],
   "source": [
    "import csv\n",
    "import psycopg2\n",
    "import os\n",
    "import glob\n",
    "\n",
    "\n",
    "conn = psycopg2.connect(\"host= 10.64.10.85 port=5432  dbname=iz_BD user= maciek password= Test1234!!!!\")\n",
    "print(\"Connecting to Database\")\n",
    "\n",
    "cur = conn.cursor()\n",
    "csvPath = \"C:\\\\Users\\\\maciej.olech\\\\Desktop\\\\structure_files\\\\\"\n",
    "\n",
    "list_of_char = ['KE','KOJ','KMT','PROS','NRO','NRM','NRCHL','NR_ZWIERZ','NR_OJCA','NR_MATKI','ZNAK1','NR_KNURA','NR_LOCHY']\n",
    "list_of_date = ['KDOC','KDUR','DWYB','DOC','DOP','KD']\n",
    "list_of_int = ['KT','KP']\n",
    "numeric1_4 = ['KY3','KY5','OKO','PROC_MIES']\n",
    "numeric1_5 = ['MIESO_PROC','ILUR','IL21']\n",
    "numeric2_5 = ['H_PD','H_PM','H_IN','H_IN_1','H_IN_2','H_IN_3','H_IN_4','H_IN_5','H_IN_6']\n",
    "numeric4_10 = ['X1','X2','S1','S2','BLUP_ZWH','BLUP_M','S1M','S2M','BLUP_C','S1C','S2C','S1M1','S2M1','S1M2','S2M2','S1M3','S2M3','S1M4','S2M4','S1MW','S2MW']\n",
    "# Loop through each CSV\n",
    "for filename in glob.glob(csvPath+\"*.csv\"):\n",
    "# Create a table name\n",
    "    tablename = filename.replace(\"C:\\\\Users\\\\maciej.olech\\\\Desktop\\\\structure_files\\\\\", \"\")\n",
    "    tablename = tablename.replace(\".csv\", \"\")\n",
    "    print(tablename)\n",
    "\n",
    "    # Open file\n",
    "    fileInput = open(filename, \"r\")\n",
    "\n",
    "    # Extract first line of file\n",
    "    firstLine = fileInput.readline().strip()\n",
    "\n",
    "    # Split columns into an array [...]\n",
    "    columns = firstLine.split(\",\")\n",
    "\n",
    "    # Build SQL code to drop table if exists and create table\n",
    "    sqlQueryCreate = 'DROP TABLE IF EXISTS '+ tablename + \";\\n\"\n",
    "    sqlQueryCreate += 'CREATE TABLE '+ tablename + \"(\"\n",
    "\n",
    "    #some loop or function according to your requiremennt\n",
    "    # Define columns for table\n",
    "    for column in columns:\n",
    "        if column in list_of_char:\n",
    "            sqlQueryCreate += column + \" VARCHAR(64),\\n\"\n",
    "        elif column in list_of_date:\n",
    "            sqlQueryCreate += column + \" DATE,\\n\"\n",
    "        elif column in numeric1_4:\n",
    "            sqlQueryCreate += column + \" NUMERIC(4,1),\\n\"\n",
    "        elif column in numeric1_5:\n",
    "            sqlQueryCreate += column + \" NUMERIC(5,1),\\n\"\n",
    "        elif column in numeric2_5:\n",
    "            sqlQueryCreate += column + \" NUMERIC(5,2),\\n\"\n",
    "        elif column in numeric4_10:\n",
    "            sqlQueryCreate += column + \" NUMERIC(10,4),\\n\"\n",
    "        elif column in list_of_int:\n",
    "            sqlQueryCreate += column + \" INT,\\n\"\n",
    "        else:\n",
    "            sqlQueryCreate += column + \" FLOAT,\\n\"\n",
    "    sqlQueryCreate = sqlQueryCreate[:-2]\n",
    "    sqlQueryCreate += \");\"\n",
    "\n",
    "    cur.execute(sqlQueryCreate)\n",
    "    conn.commit()\n",
    "\n",
    "cur.close()\n",
    "print(\"Create tables done!!\")"
   ]
  },
  {
   "cell_type": "code",
   "execution_count": null,
   "id": "37d2e0dd-5298-4530-af30-0f0e41cbabb0",
   "metadata": {},
   "outputs": [],
   "source": []
  }
 ],
 "metadata": {
  "kernelspec": {
   "display_name": "Python 3 (ipykernel)",
   "language": "python",
   "name": "python3"
  },
  "language_info": {
   "codemirror_mode": {
    "name": "ipython",
    "version": 3
   },
   "file_extension": ".py",
   "mimetype": "text/x-python",
   "name": "python",
   "nbconvert_exporter": "python",
   "pygments_lexer": "ipython3",
   "version": "3.10.0"
  }
 },
 "nbformat": 4,
 "nbformat_minor": 5
}
