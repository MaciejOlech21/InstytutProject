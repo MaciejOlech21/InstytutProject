{
 "cells": [
  {
   "cell_type": "code",
   "execution_count": 83,
   "id": "159d1742-21ec-4418-b4b1-ad5070552de9",
   "metadata": {},
   "outputs": [],
   "source": [
    "import pandas as pd\n",
    "from tkinter import Tk\n",
    "from tkinter.filedialog import askopenfilenames\n",
    "\n",
    "path_list = []\n",
    "Tk().withdraw()\n",
    "filename = askopenfilenames()\n",
    "for path in filename:\n",
    "    path_list.append(path)\n",
    "\n",
    "df = pd.concat(\n",
    "    map(pd.read_csv,path_list), ignore_index=True)\n",
    "\n"
   ]
  },
  {
   "cell_type": "code",
   "execution_count": 84,
   "id": "fc4adef6-a34e-4cac-be65-26560dc2e9b4",
   "metadata": {},
   "outputs": [],
   "source": [
    "def mean_on_column(name_of_city, name_of_column):\n",
    "    rslt_df = df.loc[df['KE'] == name_of_city,[name_of_column]].mean()\n",
    "    rslt_df = round(rslt_df, 2)\n",
    "    return rslt_df\n",
    "\n",
    "def sum_on_column(name_of_city, name_of_column):\n",
    "    rslt_df = df.loc[df['KE'] == name_of_city,[name_of_column]].sum()\n",
    "    rslt_df = round(rslt_df, 2)\n",
    "    return rslt_df"
   ]
  },
  {
   "cell_type": "code",
   "execution_count": 85,
   "id": "d32c54ca-31f9-4af9-9157-58a562fb1e06",
   "metadata": {},
   "outputs": [
    {
     "name": "stdout",
     "output_type": "stream",
     "text": [
      "['UP', 'WR', 4, 'BY', 'GD', 'KL', '14', 'KO', 'KR', 'LB', 'LD', 'OL', 'OP', 'PZ', 'RZ', 'WL', 'ZG']\n",
      "   KE  KS  ...  MIESO_PROC  T_INDEX\n",
      "0  UP   1  ...        45.2       57\n",
      "1  UP   1  ...        48.4       72\n",
      "2  UP   1  ...        45.9       58\n",
      "3  UP   1  ...        44.5       64\n",
      "4  UP   1  ...        45.5       67\n",
      "\n",
      "[5 rows x 22 columns]\n",
      "KE                     BY\n",
      "KS                      6\n",
      "KW                      4\n",
      "KSE                     2\n",
      "KP                      2\n",
      "KDOC           2019-05-23\n",
      "KH                     72\n",
      "KRO                    10\n",
      "KOJ            I364613/13\n",
      "KRM                    10\n",
      "KMT           06072082316\n",
      "KNR            6072000819\n",
      "KDUR           2018-12-20\n",
      "KY1                    98\n",
      "KY2                     0\n",
      "KY3                  12.1\n",
      "KY4                     0\n",
      "KY5                  12.0\n",
      "OKO                  60.1\n",
      "T_PRZYR               696\n",
      "MIESO_PROC           56.7\n",
      "T_INDEX               116\n",
      "Name: 3481, dtype: object\n"
     ]
    }
   ],
   "source": [
    "list_of_cities = []\n",
    "\n",
    "for i in range(len(df)):\n",
    "    if df.loc[i,\"KE\"] not in list_of_cities and df.loc[i,\"KE\"] != \"nan\":\n",
    "        list_of_cities.append(df.loc[i,\"KE\"])\n",
    "print(list_of_cities)\n",
    "print(df.head())\n",
    "print(data)"
   ]
  },
  {
   "cell_type": "code",
   "execution_count": 103,
   "id": "223a5ed2-a7af-468e-99f5-7babe905f69e",
   "metadata": {},
   "outputs": [
    {
     "ename": "ValueError",
     "evalue": "cannot set a frame with no defined columns",
     "output_type": "error",
     "traceback": [
      "\u001b[1;31m---------------------------------------------------------------------------\u001b[0m",
      "\u001b[1;31mValueError\u001b[0m                                Traceback (most recent call last)",
      "\u001b[1;32mC:\\Users\\MACIEJ~1.OLE\\AppData\\Local\\Temp/ipykernel_6820/972385155.py\u001b[0m in \u001b[0;36m<module>\u001b[1;34m\u001b[0m\n\u001b[0;32m      9\u001b[0m     \u001b[1;32mfor\u001b[0m \u001b[0mcolumn\u001b[0m \u001b[1;32min\u001b[0m \u001b[0mlist_of_column\u001b[0m\u001b[1;33m:\u001b[0m\u001b[1;33m\u001b[0m\u001b[1;33m\u001b[0m\u001b[0m\n\u001b[0;32m     10\u001b[0m         \u001b[0mlista\u001b[0m\u001b[1;33m.\u001b[0m\u001b[0mappend\u001b[0m\u001b[1;33m(\u001b[0m\u001b[0mmean_on_column\u001b[0m\u001b[1;33m(\u001b[0m\u001b[0mcity\u001b[0m\u001b[1;33m,\u001b[0m\u001b[0mcolumn\u001b[0m\u001b[1;33m)\u001b[0m\u001b[1;33m)\u001b[0m\u001b[1;33m\u001b[0m\u001b[1;33m\u001b[0m\u001b[0m\n\u001b[1;32m---> 11\u001b[1;33m     \u001b[0mdf3\u001b[0m\u001b[1;33m.\u001b[0m\u001b[0mloc\u001b[0m\u001b[1;33m[\u001b[0m\u001b[0mlen\u001b[0m\u001b[1;33m(\u001b[0m\u001b[0mdf\u001b[0m\u001b[1;33m)\u001b[0m\u001b[1;33m]\u001b[0m \u001b[1;33m=\u001b[0m \u001b[0mlista\u001b[0m\u001b[1;33m\u001b[0m\u001b[1;33m\u001b[0m\u001b[0m\n\u001b[0m\u001b[0;32m     12\u001b[0m \u001b[1;33m\u001b[0m\u001b[0m\n\u001b[0;32m     13\u001b[0m     \u001b[1;31m#all_list[[name_of_column]].append(mean_on_column(city, column[name_of_column]))\u001b[0m\u001b[1;33m\u001b[0m\u001b[1;33m\u001b[0m\u001b[0m\n",
      "\u001b[1;32m~\\.conda\\envs\\instytut_env\\lib\\site-packages\\pandas\\core\\indexing.py\u001b[0m in \u001b[0;36m__setitem__\u001b[1;34m(self, key, value)\u001b[0m\n\u001b[0;32m    721\u001b[0m \u001b[1;33m\u001b[0m\u001b[0m\n\u001b[0;32m    722\u001b[0m         \u001b[0miloc\u001b[0m \u001b[1;33m=\u001b[0m \u001b[0mself\u001b[0m \u001b[1;32mif\u001b[0m \u001b[0mself\u001b[0m\u001b[1;33m.\u001b[0m\u001b[0mname\u001b[0m \u001b[1;33m==\u001b[0m \u001b[1;34m\"iloc\"\u001b[0m \u001b[1;32melse\u001b[0m \u001b[0mself\u001b[0m\u001b[1;33m.\u001b[0m\u001b[0mobj\u001b[0m\u001b[1;33m.\u001b[0m\u001b[0miloc\u001b[0m\u001b[1;33m\u001b[0m\u001b[1;33m\u001b[0m\u001b[0m\n\u001b[1;32m--> 723\u001b[1;33m         \u001b[0miloc\u001b[0m\u001b[1;33m.\u001b[0m\u001b[0m_setitem_with_indexer\u001b[0m\u001b[1;33m(\u001b[0m\u001b[0mindexer\u001b[0m\u001b[1;33m,\u001b[0m \u001b[0mvalue\u001b[0m\u001b[1;33m,\u001b[0m \u001b[0mself\u001b[0m\u001b[1;33m.\u001b[0m\u001b[0mname\u001b[0m\u001b[1;33m)\u001b[0m\u001b[1;33m\u001b[0m\u001b[1;33m\u001b[0m\u001b[0m\n\u001b[0m\u001b[0;32m    724\u001b[0m \u001b[1;33m\u001b[0m\u001b[0m\n\u001b[0;32m    725\u001b[0m     \u001b[1;32mdef\u001b[0m \u001b[0m_validate_key\u001b[0m\u001b[1;33m(\u001b[0m\u001b[0mself\u001b[0m\u001b[1;33m,\u001b[0m \u001b[0mkey\u001b[0m\u001b[1;33m,\u001b[0m \u001b[0maxis\u001b[0m\u001b[1;33m:\u001b[0m \u001b[0mint\u001b[0m\u001b[1;33m)\u001b[0m\u001b[1;33m:\u001b[0m\u001b[1;33m\u001b[0m\u001b[1;33m\u001b[0m\u001b[0m\n",
      "\u001b[1;32m~\\.conda\\envs\\instytut_env\\lib\\site-packages\\pandas\\core\\indexing.py\u001b[0m in \u001b[0;36m_setitem_with_indexer\u001b[1;34m(self, indexer, value, name)\u001b[0m\n\u001b[0;32m   1722\u001b[0m \u001b[1;33m\u001b[0m\u001b[0m\n\u001b[0;32m   1723\u001b[0m             \u001b[1;32mif\u001b[0m \u001b[0mmissing\u001b[0m\u001b[1;33m:\u001b[0m\u001b[1;33m\u001b[0m\u001b[1;33m\u001b[0m\u001b[0m\n\u001b[1;32m-> 1724\u001b[1;33m                 \u001b[0mself\u001b[0m\u001b[1;33m.\u001b[0m\u001b[0m_setitem_with_indexer_missing\u001b[0m\u001b[1;33m(\u001b[0m\u001b[0mindexer\u001b[0m\u001b[1;33m,\u001b[0m \u001b[0mvalue\u001b[0m\u001b[1;33m)\u001b[0m\u001b[1;33m\u001b[0m\u001b[1;33m\u001b[0m\u001b[0m\n\u001b[0m\u001b[0;32m   1725\u001b[0m                 \u001b[1;32mreturn\u001b[0m\u001b[1;33m\u001b[0m\u001b[1;33m\u001b[0m\u001b[0m\n\u001b[0;32m   1726\u001b[0m \u001b[1;33m\u001b[0m\u001b[0m\n",
      "\u001b[1;32m~\\.conda\\envs\\instytut_env\\lib\\site-packages\\pandas\\core\\indexing.py\u001b[0m in \u001b[0;36m_setitem_with_indexer_missing\u001b[1;34m(self, indexer, value)\u001b[0m\n\u001b[0;32m   2010\u001b[0m             \u001b[1;32mif\u001b[0m \u001b[1;32mnot\u001b[0m \u001b[0mlen\u001b[0m\u001b[1;33m(\u001b[0m\u001b[0mself\u001b[0m\u001b[1;33m.\u001b[0m\u001b[0mobj\u001b[0m\u001b[1;33m.\u001b[0m\u001b[0mcolumns\u001b[0m\u001b[1;33m)\u001b[0m\u001b[1;33m:\u001b[0m\u001b[1;33m\u001b[0m\u001b[1;33m\u001b[0m\u001b[0m\n\u001b[0;32m   2011\u001b[0m                 \u001b[1;31m# no columns and scalar\u001b[0m\u001b[1;33m\u001b[0m\u001b[1;33m\u001b[0m\u001b[0m\n\u001b[1;32m-> 2012\u001b[1;33m                 \u001b[1;32mraise\u001b[0m \u001b[0mValueError\u001b[0m\u001b[1;33m(\u001b[0m\u001b[1;34m\"cannot set a frame with no defined columns\"\u001b[0m\u001b[1;33m)\u001b[0m\u001b[1;33m\u001b[0m\u001b[1;33m\u001b[0m\u001b[0m\n\u001b[0m\u001b[0;32m   2013\u001b[0m \u001b[1;33m\u001b[0m\u001b[0m\n\u001b[0;32m   2014\u001b[0m             \u001b[1;32mif\u001b[0m \u001b[0misinstance\u001b[0m\u001b[1;33m(\u001b[0m\u001b[0mvalue\u001b[0m\u001b[1;33m,\u001b[0m \u001b[0mABCSeries\u001b[0m\u001b[1;33m)\u001b[0m\u001b[1;33m:\u001b[0m\u001b[1;33m\u001b[0m\u001b[1;33m\u001b[0m\u001b[0m\n",
      "\u001b[1;31mValueError\u001b[0m: cannot set a frame with no defined columns"
     ]
    }
   ],
   "source": [
    "#column = input('Please select column you want to mean')\n",
    "list_of_column = [\"KY3\",\"KY5\",\"T_PRZYR\",\"MIESO_PROC\",\"T_INDEX\"]\n",
    "all_list = [[],[],[],[],[]]\n",
    "lista = []\n",
    "name_of_column = 0\n",
    "df3 = pd.DataFrame()\n",
    "for city in list_of_cities:\n",
    "    df3 = pd.DataFrame(index = city)\n",
    "    #lista.append(mean_on_column(city,list_of_column\n",
    "    for column in list_of_column:\n",
    "        lista.append(mean_on_column(city,column))\n",
    "    df3.loc[len(df)] = lista\n",
    "\n",
    "    #lista.append(mean_on_column(city, list_of_column[name_of_column]))\n",
    "    name_of_column +=1\n",
    "print(df3)    \n",
    "    \n",
    "#df2 = pd.DataFrame(index = list_of_cities, data = ky3)\n",
    "#df2 = df2.rename(columns={'OKO':'Wysokość  \"oka\" polędwicy standar. (mm)'})\n",
    "#print(df2)"
   ]
  },
  {
   "cell_type": "code",
   "execution_count": null,
   "id": "934bcf99-4d17-446b-872f-6d04bfbab598",
   "metadata": {},
   "outputs": [],
   "source": []
  },
  {
   "cell_type": "code",
   "execution_count": null,
   "id": "4e40c5fb-955f-43c8-b4b5-4113ccc1754e",
   "metadata": {},
   "outputs": [],
   "source": []
  }
 ],
 "metadata": {
  "kernelspec": {
   "display_name": "Python 3 (ipykernel)",
   "language": "python",
   "name": "python3"
  },
  "language_info": {
   "codemirror_mode": {
    "name": "ipython",
    "version": 3
   },
   "file_extension": ".py",
   "mimetype": "text/x-python",
   "name": "python",
   "nbconvert_exporter": "python",
   "pygments_lexer": "ipython3",
   "version": "3.10.0"
  }
 },
 "nbformat": 4,
 "nbformat_minor": 5
}
